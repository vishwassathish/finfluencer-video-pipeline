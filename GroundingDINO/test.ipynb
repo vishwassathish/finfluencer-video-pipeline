{
 "cells": [
  {
   "cell_type": "code",
   "execution_count": null,
   "metadata": {},
   "outputs": [
    {
     "name": "stderr",
     "output_type": "stream",
     "text": [
      "TqdmWarning: IProgress not found. Please update jupyter and ipywidgets. See https://ipywidgets.readthedocs.io/en/stable/user_install.html\n",
      "FutureWarning: Importing from timm.models.layers is deprecated, please import via timm.layers\n",
      "UserWarning: torch.meshgrid: in an upcoming release, it will be required to pass the indexing argument. (Triggered internally at ../aten/src/ATen/native/TensorShape.cpp:3595.)\n"
     ]
    },
    {
     "name": "stdout",
     "output_type": "stream",
     "text": [
      "final text_encoder_type: bert-base-uncased\n"
     ]
    },
    {
     "name": "stderr",
     "output_type": "stream",
     "text": [
      "FutureWarning: You are using `torch.load` with `weights_only=False` (the current default value), which uses the default pickle module implicitly. It is possible to construct malicious pickle data which will execute arbitrary code during unpickling (See https://github.com/pytorch/pytorch/blob/main/SECURITY.md#untrusted-models for more details). In a future release, the default value for `weights_only` will be flipped to `True`. This limits the functions that could be executed during unpickling. Arbitrary objects will no longer be allowed to be loaded via this mode unless they are explicitly allowlisted by the user via `torch.serialization.add_safe_globals`. We recommend you start setting `weights_only=True` for any use case where you don't have full control of the loaded file. Please open an issue on GitHub for any issues related to this experimental feature.\n"
     ]
    },
    {
     "name": "stdout",
     "output_type": "stream",
     "text": [
      "tensor([[[-2.1008, -2.1008, -2.1008,  ..., -2.1179, -2.1179, -2.1179],\n",
      "         [-2.1008, -2.1008, -2.1008,  ..., -2.1179, -2.1179, -2.1179],\n",
      "         [-2.1008, -2.1008, -2.1008,  ..., -2.1179, -2.1179, -2.1179],\n",
      "         ...,\n",
      "         [-1.8610, -1.8610, -1.8610,  ..., -2.0323, -2.0323, -2.0323],\n",
      "         [-1.8610, -1.8610, -1.8610,  ..., -2.0323, -2.0323, -2.0323],\n",
      "         [-1.8610, -1.8610, -1.8610,  ..., -2.0323, -2.0323, -2.0323]],\n",
      "\n",
      "        [[-2.0007, -2.0007, -2.0007,  ..., -2.0182, -2.0182, -2.0182],\n",
      "         [-2.0007, -2.0007, -2.0007,  ..., -2.0182, -2.0182, -2.0182],\n",
      "         [-2.0007, -2.0007, -2.0007,  ..., -2.0182, -2.0182, -2.0182],\n",
      "         ...,\n",
      "         [-1.9657, -1.9657, -1.9657,  ..., -1.9657, -1.9657, -1.9657],\n",
      "         [-1.9657, -1.9657, -1.9657,  ..., -1.9657, -1.9657, -1.9657],\n",
      "         [-1.9657, -1.9657, -1.9657,  ..., -1.9657, -1.9657, -1.9657]],\n",
      "\n",
      "        [[-1.7347, -1.7347, -1.7347,  ..., -1.7522, -1.7522, -1.7522],\n",
      "         [-1.7347, -1.7347, -1.7347,  ..., -1.7522, -1.7522, -1.7522],\n",
      "         [-1.7347, -1.7347, -1.7347,  ..., -1.7522, -1.7522, -1.7522],\n",
      "         ...,\n",
      "         [-1.8044, -1.8044, -1.8044,  ..., -1.7696, -1.7696, -1.7696],\n",
      "         [-1.8044, -1.8044, -1.8044,  ..., -1.7696, -1.7696, -1.7696],\n",
      "         [-1.8044, -1.8044, -1.8044,  ..., -1.7696, -1.7696, -1.7696]]]) torch.Size([3, 1333, 750]) torch.float32\n"
     ]
    },
    {
     "ename": "AttributeError",
     "evalue": "'list' object has no attribute 'lower'",
     "output_type": "error",
     "traceback": [
      "\u001b[0;31m---------------------------------------------------------------------------\u001b[0m",
      "\u001b[0;31mAttributeError\u001b[0m                            Traceback (most recent call last)",
      "Cell \u001b[0;32mIn[1], line 13\u001b[0m\n\u001b[1;32m     10\u001b[0m image_source, image \u001b[38;5;241m=\u001b[39m load_image(IMAGE_PATH)\n\u001b[1;32m     11\u001b[0m \u001b[38;5;28mprint\u001b[39m(image, image\u001b[38;5;241m.\u001b[39mshape, image\u001b[38;5;241m.\u001b[39mdtype)\n\u001b[0;32m---> 13\u001b[0m boxes, logits, phrases \u001b[38;5;241m=\u001b[39m \u001b[43mpredict\u001b[49m\u001b[43m(\u001b[49m\n\u001b[1;32m     14\u001b[0m \u001b[43m    \u001b[49m\u001b[43mmodel\u001b[49m\u001b[38;5;241;43m=\u001b[39;49m\u001b[43mmodel\u001b[49m\u001b[43m,\u001b[49m\n\u001b[1;32m     15\u001b[0m \u001b[43m    \u001b[49m\u001b[43mimage\u001b[49m\u001b[38;5;241;43m=\u001b[39;49m\u001b[43m[\u001b[49m\u001b[43mimage\u001b[49m\u001b[43m,\u001b[49m\u001b[43m \u001b[49m\u001b[43mimage\u001b[49m\u001b[43m]\u001b[49m\u001b[43m,\u001b[49m\n\u001b[1;32m     16\u001b[0m \u001b[43m    \u001b[49m\u001b[43mcaption\u001b[49m\u001b[38;5;241;43m=\u001b[39;49m\u001b[43m[\u001b[49m\u001b[43mTEXT_PROMPT\u001b[49m\u001b[43m,\u001b[49m\u001b[43m \u001b[49m\u001b[43mTEXT_PROMPT\u001b[49m\u001b[43m]\u001b[49m\u001b[43m,\u001b[49m\n\u001b[1;32m     17\u001b[0m \u001b[43m    \u001b[49m\u001b[43mbox_threshold\u001b[49m\u001b[38;5;241;43m=\u001b[39;49m\u001b[43mBOX_TRESHOLD\u001b[49m\u001b[43m,\u001b[49m\n\u001b[1;32m     18\u001b[0m \u001b[43m    \u001b[49m\u001b[43mtext_threshold\u001b[49m\u001b[38;5;241;43m=\u001b[39;49m\u001b[43mTEXT_TRESHOLD\u001b[49m\n\u001b[1;32m     19\u001b[0m \u001b[43m)\u001b[49m\n\u001b[1;32m     21\u001b[0m annotated_frame \u001b[38;5;241m=\u001b[39m annotate(image_source\u001b[38;5;241m=\u001b[39mimage_source, boxes\u001b[38;5;241m=\u001b[39mboxes, logits\u001b[38;5;241m=\u001b[39mlogits, phrases\u001b[38;5;241m=\u001b[39mphrases)\n\u001b[1;32m     22\u001b[0m cv2\u001b[38;5;241m.\u001b[39mimwrite(\u001b[38;5;124m\"\u001b[39m\u001b[38;5;124mannotated_image.jpg\u001b[39m\u001b[38;5;124m\"\u001b[39m, annotated_frame)\n",
      "File \u001b[0;32m~/projects/finfluencer-analysis/GroundingDINO/groundingdino/util/inference.py:62\u001b[0m, in \u001b[0;36mpredict\u001b[0;34m(model, image, caption, box_threshold, text_threshold, device, remove_combined)\u001b[0m\n\u001b[1;32m     53\u001b[0m \u001b[38;5;28;01mdef\u001b[39;00m \u001b[38;5;21mpredict\u001b[39m(\n\u001b[1;32m     54\u001b[0m         model,\n\u001b[1;32m     55\u001b[0m         image: torch\u001b[38;5;241m.\u001b[39mTensor,\n\u001b[0;32m   (...)\u001b[0m\n\u001b[1;32m     60\u001b[0m         remove_combined: \u001b[38;5;28mbool\u001b[39m \u001b[38;5;241m=\u001b[39m \u001b[38;5;28;01mFalse\u001b[39;00m\n\u001b[1;32m     61\u001b[0m ) \u001b[38;5;241m-\u001b[39m\u001b[38;5;241m>\u001b[39m Tuple[torch\u001b[38;5;241m.\u001b[39mTensor, torch\u001b[38;5;241m.\u001b[39mTensor, List[\u001b[38;5;28mstr\u001b[39m]]:\n\u001b[0;32m---> 62\u001b[0m     caption \u001b[38;5;241m=\u001b[39m \u001b[43mpreprocess_caption\u001b[49m\u001b[43m(\u001b[49m\u001b[43mcaption\u001b[49m\u001b[38;5;241;43m=\u001b[39;49m\u001b[43mcaption\u001b[49m\u001b[43m)\u001b[49m\n\u001b[1;32m     64\u001b[0m     model \u001b[38;5;241m=\u001b[39m model\u001b[38;5;241m.\u001b[39mto(device)\n\u001b[1;32m     65\u001b[0m     image \u001b[38;5;241m=\u001b[39m image\u001b[38;5;241m.\u001b[39mto(device)\n",
      "File \u001b[0;32m~/projects/finfluencer-analysis/GroundingDINO/groundingdino/util/inference.py:23\u001b[0m, in \u001b[0;36mpreprocess_caption\u001b[0;34m(caption)\u001b[0m\n\u001b[1;32m     22\u001b[0m \u001b[38;5;28;01mdef\u001b[39;00m \u001b[38;5;21mpreprocess_caption\u001b[39m(caption: \u001b[38;5;28mstr\u001b[39m) \u001b[38;5;241m-\u001b[39m\u001b[38;5;241m>\u001b[39m \u001b[38;5;28mstr\u001b[39m:\n\u001b[0;32m---> 23\u001b[0m     result \u001b[38;5;241m=\u001b[39m \u001b[43mcaption\u001b[49m\u001b[38;5;241;43m.\u001b[39;49m\u001b[43mlower\u001b[49m()\u001b[38;5;241m.\u001b[39mstrip()\n\u001b[1;32m     24\u001b[0m     \u001b[38;5;28;01mif\u001b[39;00m result\u001b[38;5;241m.\u001b[39mendswith(\u001b[38;5;124m\"\u001b[39m\u001b[38;5;124m.\u001b[39m\u001b[38;5;124m\"\u001b[39m):\n\u001b[1;32m     25\u001b[0m         \u001b[38;5;28;01mreturn\u001b[39;00m result\n",
      "\u001b[0;31mAttributeError\u001b[0m: 'list' object has no attribute 'lower'"
     ]
    }
   ],
   "source": [
    "from groundingdino.util.inference import load_model, load_image, predict, annotate\n",
    "import cv2\n",
    "\n",
    "model = load_model(\"groundingdino/config/GroundingDINO_SwinT_OGC.py\", \"../.weights/groundingdino_swint_ogc.pth\")\n",
    "IMAGE_PATH = \"path/to/img/153722575674580992/7231635464380370219/7231635464380370219_frame_1.jpeg\"\n",
    "TEXT_PROMPT = \"laptop screen. text in video. number. company ticker.\"\n",
    "BOX_TRESHOLD = 0.35\n",
    "TEXT_TRESHOLD = 0.25\n",
    "\n",
    "image_source, image = load_image(IMAGE_PATH)\n",
    "print(image, image.shape, image.dtype)\n",
    "\n",
    "boxes, logits, phrases = predict(\n",
    "    model=model,\n",
    "    image=image,\n",
    "    caption=TEXT_PROMPT,\n",
    "    box_threshold=BOX_TRESHOLD,\n",
    "    text_threshold=TEXT_TRESHOLD\n",
    ")\n",
    "\n",
    "annotated_frame = annotate(image_source=image_source, boxes=boxes, logits=logits, phrases=phrases)\n",
    "cv2.imwrite(\"annotated_image.jpg\", annotated_frame)\n",
    "annotated_frame"
   ]
  }
 ],
 "metadata": {
  "kernelspec": {
   "display_name": "fin",
   "language": "python",
   "name": "python3"
  },
  "language_info": {
   "codemirror_mode": {
    "name": "ipython",
    "version": 3
   },
   "file_extension": ".py",
   "mimetype": "text/x-python",
   "name": "python",
   "nbconvert_exporter": "python",
   "pygments_lexer": "ipython3",
   "version": "3.9.20"
  },
  "orig_nbformat": 4
 },
 "nbformat": 4,
 "nbformat_minor": 2
}
